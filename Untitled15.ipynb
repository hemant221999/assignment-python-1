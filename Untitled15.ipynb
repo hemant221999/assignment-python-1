{
 "cells": [
  {
   "cell_type": "markdown",
   "id": "49bb0b29",
   "metadata": {},
   "source": [
    "#python assignment 8\n",
    "\n",
    "#Q1 Is the Python Standard Library included with PyInputPlus?\n",
    "answer- No, the Python Standard Library is not included with PyInputPlus. PyInputPlus is a separate library that provides additional functionality for taking user input in Python programs. However, PyInputPlus does depend on some modules from the Python Standard Library, such as re and time. When you install PyInputPlus, it will automatically install any dependencies it needs, including those from the Python Standard Library.\n",
    "\n",
    "#Q2 Why is PyInputPlus commonly imported with import pyinputplus as pypi?\n",
    "answer-PyInputPlus is commonly imported with import pyinputplus as pypi because it provides a more concise and convenient way to refer to the PyInputPlus module in your code.\n",
    "\n",
    "By using the as keyword, you can create an alias for the PyInputPlus module, which allows you to refer to it using a shorter name (pypi in this case) without affecting the functionality of the module. This can be especially useful when you are working with longer module names or when you want to avoid naming conflicts with other modules or variables in your code.\n",
    "\n",
    "#Q3 How do you distinguish between inputInt() and inputFloat()?\n",
    "answer-inputInt() and inputFloat() are two different functions in the PyInputPlus library that are used to take integer and floating-point number inputs from the user, respectively.\n",
    "\n",
    "The main difference between these two functions is the type of input they accept. inputInt() only accepts integer values, while inputFloat() accepts both integer and floating-point values\n",
    "\n",
    "#Q4 Using PyInputPlus, how do you ensure that the user enters a whole number between 0 and 99?\n",
    "answer- You can use the inputInt() function from the PyInputPlus library to ensure that the user enters a whole number between 0 and 99.\n",
    "\n",
    "#Q5 What is transferred to the keyword arguments allowRegexes and blockRegexes?\n",
    "answer- The allowRegexes and blockRegexes keyword arguments in PyInputPlus are used to specify regular expressions that are either allowed or blocked when taking user input.\n",
    "\n",
    "The allowRegexes argument is a list of regular expressions that PyInputPlus will allow as valid input from the user. If the user's input matches any of the regular expressions in the allowRegexes list, PyInputPlus will consider the input valid and return it to the program.\n",
    "\n",
    "The blockRegexes argument is a list of regular expressions that PyInputPlus will block as invalid input from the user. If the user's input matches any of the regular expressions in the blockRegexes list, PyInputPlus will consider the input invalid and raise a pyinputplus.exceptions.ValidationException with an error message.\n",
    "\n",
    "#Q6 If a blank input is entered three times, what does inputStr(limit=3) do?\n",
    "answer -If a blank input is entered three times, the inputStr(limit=3) function from the PyInputPlus library will raise a pyinputplus.exceptions.RetryLimitException with an error message indicating that the user has exceeded the maximum number of retries.\n",
    "\n",
    "#Q7 \n",
    "answer -If blank input is entered three times, the inputStr(limit=3, default='hello') function from the PyInputPlus library will return the default value 'hello' after the third retry, without raising a pyinputplus.exceptions.RetryLimitException.\n",
    "\n",
    "Here's an example code snippet that demonstrates this:\n",
    "import pyinputplus as pypi\n",
    "\n",
    "# Using inputStr() to take a string input with a maximum of 3 retries\n",
    "input_str = pypi.inputStr(prompt=\"Please enter a string: \", limit=3, default='hello')\n",
    "\n",
    "# This code will always execute, even if the user exceeds the maximum number of retries\n",
    "print(\"You entered:\", input_str)\n",
    "In the example above, inputStr() is used to take a string input from the user with a maximum of 3 retries and a default value of 'hello'. If the user enters a blank input three times in a row, PyInputPlus will return the default value 'hello' instead of raising a pyinputplus.exceptions.RetryLimitException. The program will continue to execute and print the message \"You entered: hello\".\n",
    "\n",
    "By providing a default value, the inputStr() function returns a value even if the user has exceeded the maximum number of retries, preventing the program from crashing. The default value can be any valid string value that you want to use as a fallback value in case the user does not enter any input.\n"
   ]
  }
 ],
 "metadata": {
  "kernelspec": {
   "display_name": "Python 3 (ipykernel)",
   "language": "python",
   "name": "python3"
  },
  "language_info": {
   "codemirror_mode": {
    "name": "ipython",
    "version": 3
   },
   "file_extension": ".py",
   "mimetype": "text/x-python",
   "name": "python",
   "nbconvert_exporter": "python",
   "pygments_lexer": "ipython3",
   "version": "3.9.13"
  }
 },
 "nbformat": 4,
 "nbformat_minor": 5
}
